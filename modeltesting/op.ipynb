{
 "cells": [
  {
   "cell_type": "code",
   "execution_count": 273,
   "metadata": {},
   "outputs": [],
   "source": [
    "import xgboost as xgb"
   ]
  },
  {
   "cell_type": "code",
   "execution_count": 274,
   "metadata": {},
   "outputs": [],
   "source": [
    "import pandas as pd"
   ]
  },
  {
   "cell_type": "code",
   "execution_count": 275,
   "metadata": {},
   "outputs": [],
   "source": [
    "df = pd.read_csv(\"../data2.csv\")"
   ]
  },
  {
   "cell_type": "code",
   "execution_count": 276,
   "metadata": {},
   "outputs": [
    {
     "data": {
      "text/plain": [
       "(1000, 17)"
      ]
     },
     "execution_count": 276,
     "metadata": {},
     "output_type": "execute_result"
    }
   ],
   "source": [
    "df = df.drop(['Name', 'Peak Season', 'Before Season months', 'Months left for End of Season', 'Gender', 'TransactionCount', 'Unnamed: 0'], axis=1)\n",
    "\n",
    "x = df.iloc[:,0:12]\n",
    "y = df.iloc[:,16:17]\n",
    "\n",
    "df.shape"
   ]
  },
  {
   "cell_type": "code",
   "execution_count": 277,
   "metadata": {},
   "outputs": [
    {
     "data": {
      "text/html": [
       "<div>\n",
       "<style scoped>\n",
       "    .dataframe tbody tr th:only-of-type {\n",
       "        vertical-align: middle;\n",
       "    }\n",
       "\n",
       "    .dataframe tbody tr th {\n",
       "        vertical-align: top;\n",
       "    }\n",
       "\n",
       "    .dataframe thead th {\n",
       "        text-align: right;\n",
       "    }\n",
       "</style>\n",
       "<table border=\"1\" class=\"dataframe\">\n",
       "  <thead>\n",
       "    <tr style=\"text-align: right;\">\n",
       "      <th></th>\n",
       "      <th>Jan</th>\n",
       "      <th>Feb</th>\n",
       "      <th>Mar</th>\n",
       "      <th>Apr</th>\n",
       "      <th>May</th>\n",
       "      <th>Jun</th>\n",
       "      <th>Jul</th>\n",
       "      <th>Aug</th>\n",
       "      <th>Sept</th>\n",
       "      <th>Oct</th>\n",
       "      <th>Nov</th>\n",
       "      <th>Dec</th>\n",
       "    </tr>\n",
       "  </thead>\n",
       "  <tbody>\n",
       "    <tr>\n",
       "      <th>0</th>\n",
       "      <td>179018.86</td>\n",
       "      <td>177120.88</td>\n",
       "      <td>174173.55</td>\n",
       "      <td>122734.36</td>\n",
       "      <td>362590.35</td>\n",
       "      <td>365079.62</td>\n",
       "      <td>249214.28</td>\n",
       "      <td>242866.21</td>\n",
       "      <td>436012.52</td>\n",
       "      <td>262280.29</td>\n",
       "      <td>390223.58</td>\n",
       "      <td>294466.47</td>\n",
       "    </tr>\n",
       "    <tr>\n",
       "      <th>1</th>\n",
       "      <td>42555.73</td>\n",
       "      <td>63249.06</td>\n",
       "      <td>40379.44</td>\n",
       "      <td>57876.43</td>\n",
       "      <td>49185.06</td>\n",
       "      <td>54559.53</td>\n",
       "      <td>51300.02</td>\n",
       "      <td>108893.08</td>\n",
       "      <td>111362.50</td>\n",
       "      <td>43984.41</td>\n",
       "      <td>60624.84</td>\n",
       "      <td>36887.95</td>\n",
       "    </tr>\n",
       "    <tr>\n",
       "      <th>2</th>\n",
       "      <td>135601.47</td>\n",
       "      <td>174790.03</td>\n",
       "      <td>133235.49</td>\n",
       "      <td>209354.95</td>\n",
       "      <td>180334.22</td>\n",
       "      <td>144941.36</td>\n",
       "      <td>158670.00</td>\n",
       "      <td>480330.37</td>\n",
       "      <td>143541.85</td>\n",
       "      <td>131941.96</td>\n",
       "      <td>227762.95</td>\n",
       "      <td>212498.75</td>\n",
       "    </tr>\n",
       "    <tr>\n",
       "      <th>3</th>\n",
       "      <td>145533.08</td>\n",
       "      <td>194858.86</td>\n",
       "      <td>517763.56</td>\n",
       "      <td>587363.81</td>\n",
       "      <td>194260.81</td>\n",
       "      <td>238350.12</td>\n",
       "      <td>138048.70</td>\n",
       "      <td>176593.62</td>\n",
       "      <td>230162.27</td>\n",
       "      <td>137788.52</td>\n",
       "      <td>189368.18</td>\n",
       "      <td>160306.05</td>\n",
       "    </tr>\n",
       "    <tr>\n",
       "      <th>4</th>\n",
       "      <td>111695.66</td>\n",
       "      <td>92337.60</td>\n",
       "      <td>104144.36</td>\n",
       "      <td>89659.33</td>\n",
       "      <td>145544.96</td>\n",
       "      <td>235337.56</td>\n",
       "      <td>276935.12</td>\n",
       "      <td>108437.74</td>\n",
       "      <td>102481.52</td>\n",
       "      <td>127726.98</td>\n",
       "      <td>120973.45</td>\n",
       "      <td>116962.33</td>\n",
       "    </tr>\n",
       "    <tr>\n",
       "      <th>...</th>\n",
       "      <td>...</td>\n",
       "      <td>...</td>\n",
       "      <td>...</td>\n",
       "      <td>...</td>\n",
       "      <td>...</td>\n",
       "      <td>...</td>\n",
       "      <td>...</td>\n",
       "      <td>...</td>\n",
       "      <td>...</td>\n",
       "      <td>...</td>\n",
       "      <td>...</td>\n",
       "      <td>...</td>\n",
       "    </tr>\n",
       "    <tr>\n",
       "      <th>995</th>\n",
       "      <td>139740.53</td>\n",
       "      <td>134544.51</td>\n",
       "      <td>125999.43</td>\n",
       "      <td>88232.34</td>\n",
       "      <td>309053.43</td>\n",
       "      <td>382424.13</td>\n",
       "      <td>247519.61</td>\n",
       "      <td>297059.84</td>\n",
       "      <td>378994.13</td>\n",
       "      <td>110848.59</td>\n",
       "      <td>100152.30</td>\n",
       "      <td>148495.98</td>\n",
       "    </tr>\n",
       "    <tr>\n",
       "      <th>996</th>\n",
       "      <td>148047.79</td>\n",
       "      <td>112337.95</td>\n",
       "      <td>125866.95</td>\n",
       "      <td>110995.54</td>\n",
       "      <td>124860.01</td>\n",
       "      <td>239777.48</td>\n",
       "      <td>279428.63</td>\n",
       "      <td>215462.67</td>\n",
       "      <td>121346.99</td>\n",
       "      <td>113491.13</td>\n",
       "      <td>168815.89</td>\n",
       "      <td>172984.17</td>\n",
       "    </tr>\n",
       "    <tr>\n",
       "      <th>997</th>\n",
       "      <td>231075.16</td>\n",
       "      <td>227730.31</td>\n",
       "      <td>213158.66</td>\n",
       "      <td>147007.86</td>\n",
       "      <td>145156.58</td>\n",
       "      <td>156733.46</td>\n",
       "      <td>213868.72</td>\n",
       "      <td>167817.68</td>\n",
       "      <td>175357.13</td>\n",
       "      <td>156508.09</td>\n",
       "      <td>614548.60</td>\n",
       "      <td>633177.28</td>\n",
       "    </tr>\n",
       "    <tr>\n",
       "      <th>998</th>\n",
       "      <td>43010.58</td>\n",
       "      <td>35606.65</td>\n",
       "      <td>59184.78</td>\n",
       "      <td>43935.51</td>\n",
       "      <td>53105.99</td>\n",
       "      <td>34996.00</td>\n",
       "      <td>44865.90</td>\n",
       "      <td>91331.10</td>\n",
       "      <td>96512.01</td>\n",
       "      <td>83445.68</td>\n",
       "      <td>91989.91</td>\n",
       "      <td>64899.35</td>\n",
       "    </tr>\n",
       "    <tr>\n",
       "      <th>999</th>\n",
       "      <td>53968.37</td>\n",
       "      <td>52406.45</td>\n",
       "      <td>49799.04</td>\n",
       "      <td>68230.42</td>\n",
       "      <td>69081.32</td>\n",
       "      <td>83147.59</td>\n",
       "      <td>147281.16</td>\n",
       "      <td>169784.10</td>\n",
       "      <td>122698.42</td>\n",
       "      <td>80125.68</td>\n",
       "      <td>67009.16</td>\n",
       "      <td>77747.59</td>\n",
       "    </tr>\n",
       "  </tbody>\n",
       "</table>\n",
       "<p>1000 rows × 12 columns</p>\n",
       "</div>"
      ],
      "text/plain": [
       "           Jan        Feb        Mar        Apr        May        Jun  \\\n",
       "0    179018.86  177120.88  174173.55  122734.36  362590.35  365079.62   \n",
       "1     42555.73   63249.06   40379.44   57876.43   49185.06   54559.53   \n",
       "2    135601.47  174790.03  133235.49  209354.95  180334.22  144941.36   \n",
       "3    145533.08  194858.86  517763.56  587363.81  194260.81  238350.12   \n",
       "4    111695.66   92337.60  104144.36   89659.33  145544.96  235337.56   \n",
       "..         ...        ...        ...        ...        ...        ...   \n",
       "995  139740.53  134544.51  125999.43   88232.34  309053.43  382424.13   \n",
       "996  148047.79  112337.95  125866.95  110995.54  124860.01  239777.48   \n",
       "997  231075.16  227730.31  213158.66  147007.86  145156.58  156733.46   \n",
       "998   43010.58   35606.65   59184.78   43935.51   53105.99   34996.00   \n",
       "999   53968.37   52406.45   49799.04   68230.42   69081.32   83147.59   \n",
       "\n",
       "           Jul        Aug       Sept        Oct        Nov        Dec  \n",
       "0    249214.28  242866.21  436012.52  262280.29  390223.58  294466.47  \n",
       "1     51300.02  108893.08  111362.50   43984.41   60624.84   36887.95  \n",
       "2    158670.00  480330.37  143541.85  131941.96  227762.95  212498.75  \n",
       "3    138048.70  176593.62  230162.27  137788.52  189368.18  160306.05  \n",
       "4    276935.12  108437.74  102481.52  127726.98  120973.45  116962.33  \n",
       "..         ...        ...        ...        ...        ...        ...  \n",
       "995  247519.61  297059.84  378994.13  110848.59  100152.30  148495.98  \n",
       "996  279428.63  215462.67  121346.99  113491.13  168815.89  172984.17  \n",
       "997  213868.72  167817.68  175357.13  156508.09  614548.60  633177.28  \n",
       "998   44865.90   91331.10   96512.01   83445.68   91989.91   64899.35  \n",
       "999  147281.16  169784.10  122698.42   80125.68   67009.16   77747.59  \n",
       "\n",
       "[1000 rows x 12 columns]"
      ]
     },
     "execution_count": 277,
     "metadata": {},
     "output_type": "execute_result"
    }
   ],
   "source": [
    "x"
   ]
  },
  {
   "cell_type": "code",
   "execution_count": 278,
   "metadata": {},
   "outputs": [
    {
     "data": {
      "text/html": [
       "<div>\n",
       "<style scoped>\n",
       "    .dataframe tbody tr th:only-of-type {\n",
       "        vertical-align: middle;\n",
       "    }\n",
       "\n",
       "    .dataframe tbody tr th {\n",
       "        vertical-align: top;\n",
       "    }\n",
       "\n",
       "    .dataframe thead th {\n",
       "        text-align: right;\n",
       "    }\n",
       "</style>\n",
       "<table border=\"1\" class=\"dataframe\">\n",
       "  <thead>\n",
       "    <tr style=\"text-align: right;\">\n",
       "      <th></th>\n",
       "      <th>Loan Amount</th>\n",
       "    </tr>\n",
       "  </thead>\n",
       "  <tbody>\n",
       "    <tr>\n",
       "      <th>0</th>\n",
       "      <td>570652.374624</td>\n",
       "    </tr>\n",
       "    <tr>\n",
       "      <th>1</th>\n",
       "      <td>212107.255479</td>\n",
       "    </tr>\n",
       "    <tr>\n",
       "      <th>2</th>\n",
       "      <td>756066.371479</td>\n",
       "    </tr>\n",
       "    <tr>\n",
       "      <th>3</th>\n",
       "      <td>444750.202464</td>\n",
       "    </tr>\n",
       "    <tr>\n",
       "      <th>4</th>\n",
       "      <td>388170.371595</td>\n",
       "    </tr>\n",
       "    <tr>\n",
       "      <th>...</th>\n",
       "      <td>...</td>\n",
       "    </tr>\n",
       "    <tr>\n",
       "      <th>995</th>\n",
       "      <td>472323.487704</td>\n",
       "    </tr>\n",
       "    <tr>\n",
       "      <th>996</th>\n",
       "      <td>634214.549493</td>\n",
       "    </tr>\n",
       "    <tr>\n",
       "      <th>997</th>\n",
       "      <td>416921.052881</td>\n",
       "    </tr>\n",
       "    <tr>\n",
       "      <th>998</th>\n",
       "      <td>121654.860277</td>\n",
       "    </tr>\n",
       "    <tr>\n",
       "      <th>999</th>\n",
       "      <td>206731.603983</td>\n",
       "    </tr>\n",
       "  </tbody>\n",
       "</table>\n",
       "<p>1000 rows × 1 columns</p>\n",
       "</div>"
      ],
      "text/plain": [
       "       Loan Amount\n",
       "0    570652.374624\n",
       "1    212107.255479\n",
       "2    756066.371479\n",
       "3    444750.202464\n",
       "4    388170.371595\n",
       "..             ...\n",
       "995  472323.487704\n",
       "996  634214.549493\n",
       "997  416921.052881\n",
       "998  121654.860277\n",
       "999  206731.603983\n",
       "\n",
       "[1000 rows x 1 columns]"
      ]
     },
     "execution_count": 278,
     "metadata": {},
     "output_type": "execute_result"
    }
   ],
   "source": [
    "y"
   ]
  },
  {
   "cell_type": "code",
   "execution_count": 279,
   "metadata": {},
   "outputs": [],
   "source": [
    "from sklearn.model_selection import train_test_split\n",
    "X_train, X_test, y_train, y_test = train_test_split(x, y, test_size = 0.3, random_state = 0)"
   ]
  },
  {
   "cell_type": "code",
   "execution_count": 280,
   "metadata": {},
   "outputs": [],
   "source": [
    "from sklearn.preprocessing import StandardScaler\n",
    "scaler = StandardScaler()\n",
    "\n",
    "X_train_scaled = scaler.fit_transform(X_train)\n",
    "X_test_scaled = scaler.transform(X_test)    \n",
    "y_train_scaled = scaler.fit_transform(y_train)\n",
    "y_test_scaled = scaler.transform(y_test)"
   ]
  },
  {
   "cell_type": "code",
   "execution_count": 281,
   "metadata": {},
   "outputs": [],
   "source": [
    "# dtrain = xgb.DMatrix(X_train_scaled, label=y_train_scaled)\n",
    "# dtest = xgb.DMatrix(X_test_scaled, label=y_test_scaled)\n",
    "\n",
    "\n",
    "# dtrain = xgb.DMatrix(X_train, label=y_train)\n",
    "# dtest = xgb.DMatrix(X_test, label=y_test)\n",
    "\n"
   ]
  },
  {
   "cell_type": "code",
   "execution_count": 282,
   "metadata": {},
   "outputs": [],
   "source": [
    "params = {\n",
    "    'objective': 'reg:squarederror',\n",
    "    'max_depth': 3,\n",
    "    'learning_rate': 0.1,\n",
    "    'eval_metric': 'rmse'\n",
    "}"
   ]
  },
  {
   "cell_type": "code",
   "execution_count": 283,
   "metadata": {},
   "outputs": [
    {
     "name": "stdout",
     "output_type": "stream",
     "text": [
      "[372636.6   564344.    209542.47  172775.58  329748.16  543410.5\n",
      " 348305.4   443294.97  240794.3   340534.2   203450.5   640397.5\n",
      " 345476.6    89143.15  729043.3   634729.    127797.52  197906.03\n",
      " 256289.53  293083.1   374465.6   101863.96  118039.37  361514.5\n",
      " 403101.28  122554.555 728913.75  583740.3   167925.33  181150.17\n",
      " 268428.56  537770.1   339066.    702222.5   214063.7   615557.3\n",
      " 120921.336 284035.75  129625.26  546079.06  249579.81  407782.6\n",
      " 665671.7   736247.2   358392.38  751476.9   620493.25  237412.31\n",
      " 415750.9   110707.375 386002.94  429625.56  456371.66  268685.1\n",
      " 303372.7   225247.25  893128.7   600719.94  690260.06  740286.44\n",
      " 597018.7   692049.3   248149.77  261676.14  355974.2   215178.94\n",
      " 326120.97  772807.1   457779.6   712740.25  197507.25  281800.12\n",
      " 482093.12  675620.1   204288.14  407495.5   191887.66  122919.12\n",
      " 509776.2   550613.56  290877.84  572878.6   586856.3   673033.3\n",
      " 268439.    500618.62  281657.    446823.62  265877.4   409630.28\n",
      " 144256.08  399597.25  133980.23  146008.66  313475.75  191321.92\n",
      "  93493.4   307744.3   643317.56  206507.31  797238.4   250966.69\n",
      " 309974.28  479854.34  612475.3    75864.55  697919.6   235177.75\n",
      "  88794.33  709678.5   151743.25  267049.1   530939.7   588017.44\n",
      " 369192.75  338061.1   106305.95  521793.47  901058.5   448676.97\n",
      " 601804.3   394061.88  485833.88  293037.75  221923.98  225495.48\n",
      " 604395.94  509118.9   342299.53  387314.7   519133.8    74335.32\n",
      " 389282.3   673661.    334313.88   94211.45  151214.22  268205.62\n",
      " 521122.28  123697.484 112738.82  646705.75  654926.8   181481.73\n",
      " 103651.35  693596.8   464603.2   221891.52  277975.1   168812.73\n",
      "  91809.555 113249.43   90488.99  131053.305 343462.84  262436.88\n",
      " 215151.97  360634.28  131558.67  609347.6   634996.56  854491.2\n",
      " 619674.5   633603.06  419251.9   318256.06  330012.1   667346.5\n",
      " 663944.2   671036.9   328320.66  279059.78  438137.12  440230.12\n",
      "  86570.68  602182.94  618860.94  535593.7   456337.28  207124.08\n",
      " 336485.16  211890.44  581040.1   519685.8   485445.84  655407.9\n",
      " 253781.23  312918.72  270129.28  657869.6   202649.25  758790.4\n",
      " 609274.2   193999.27  455873.7   280719.97  497042.06  276596.97\n",
      " 354723.12  634500.56  567372.2   264094.5   552194.    201119.03\n",
      " 769594.8   245313.7   112669.72  612819.7   575583.2   232552.34\n",
      " 631846.9   499373.84  280295.44  121712.36  215572.02   65775.445\n",
      " 230373.27  467509.22  305711.75  557528.94  410737.2   715176.44\n",
      " 372458.3   306135.28  613968.1   649544.2   424441.22   88614.74\n",
      " 429850.97  226937.12  439153.38  207361.    111357.414 308459.3\n",
      " 465516.4   563351.25  485605.    192965.95  185061.39  472705.28\n",
      " 249107.34  650934.6   368251.78  538705.4   221965.7   248185.69\n",
      " 171338.66  616867.56  118308.984 328531.5   582037.25  283411.8\n",
      " 778491.44  391444.03  363921.12  358059.1   271862.16  402506.5\n",
      " 336460.    140025.4   122498.73  626780.25  134179.27  608501.2\n",
      " 238412.25  562570.56  529761.5   438207.62  266288.88  513154.94\n",
      " 476167.44   94148.125 744909.2   369330.5   349103.7   707900.4\n",
      " 275949.3   197858.39   77829.15  608195.56  165711.03   99502.15\n",
      " 511808.03  697582.4   579652.06  161790.25  307315.06  318272.28\n",
      " 312370.7   342191.1   444021.78  134567.33  338952.1   459520.1\n",
      " 169332.2    94969.94  177193.    758848.9   294150.4   468989.53 ]\n"
     ]
    }
   ],
   "source": [
    "# num_rounds = 100\n",
    "# model = xgb.train(params, dtrain, num_rounds)\n",
    "model = xgb.XGBRegressor(objective ='reg:squarederror', seed=42)\n",
    "model.fit(X_train, y_train)\n",
    "y_pred_reg = model.predict(X_test)\n",
    "print(y_pred_reg)\n"
   ]
  },
  {
   "cell_type": "code",
   "execution_count": 284,
   "metadata": {},
   "outputs": [],
   "source": [
    "\n",
    "# import matplotlib.pyplot as plt\n",
    "# plt.figure(figsize=(20, 10))\n",
    "# xgb.plot_tree(model, num_trees=0, rankdir='LR')  # Adjust num_trees to visualize a different tree\n",
    "# plt.savefig('xgboost_tree.png', dpi=1000)\n",
    "# plt.show()"
   ]
  },
  {
   "cell_type": "code",
   "execution_count": 288,
   "metadata": {},
   "outputs": [
    {
     "name": "stdout",
     "output_type": "stream",
     "text": [
      "      Jan     Feb     Mar     Apr     May     Jun     Jul     Aug    Sept  \\\n",
      "0  4128.0  3775.0  1752.0  2441.0  1230.0  4260.0  3736.0  4448.0  3124.0   \n",
      "\n",
      "      Oct     Nov     Dec  \n",
      "0  4481.0  1278.0  1672.0  \n",
      "%%%%%%%%%%%%%%%%%%%%%%%%%\n",
      "[93695.625]\n",
      "%%%%%%%%%%%%%%%%%%%%%%%%%\n"
     ]
    }
   ],
   "source": [
    "import pickle\n",
    "import numpy as np\n",
    "\n",
    "pickle.dump(model,open('../model_saved','wb'))\n",
    "\n",
    "model_loaded = pickle.load(open('../model_saved','rb'))\n",
    "\n",
    "# data = {\n",
    "#         'Jan' : [10010.12],\n",
    "#         'Feb' : [10000.23],\n",
    "#         'Mar' : [10000.23],\n",
    "#         'Apr' : [10000.23],\n",
    "#         'May' : [10000.23],\n",
    "#         'Jun' : [10000.23],\n",
    "#         'Jul' : [10000.23],\n",
    "#         'Aug' : [10000.23],\n",
    "#         'Sept' :[10000.23],\n",
    "#         'Oct' : [10000.23],\n",
    "#         'Nov' : [10000.23],\n",
    "#         'Dec' : [10000.23],\n",
    "#     }\n",
    "\n",
    "data = np.array([[4128, 3775, 1752, 2441, 1230, 4260, 3736, 4448, 3124, 4481, 1278, 1672]])\n",
    "df1 = pd.DataFrame(data)\n",
    "df1.rename(columns={0: 'Jan', 1: 'Feb', 2: 'Mar', 3 : 'Apr', 4 : 'May', 5 : 'Jun', 6 : 'Jul', 7 : 'Aug', 8 : 'Sept', 9 : 'Oct', 10 : 'Nov', 11 : 'Dec'}, inplace=True)\n",
    "df1 = df1.astype(float)\n",
    "print(df1)\n",
    "\n",
    "val = model.predict(df1)\n",
    "\n",
    "print(\"%%%%%%%%%%%%%%%%%%%%%%%%%\")\n",
    "print(val)\n",
    "print(\"%%%%%%%%%%%%%%%%%%%%%%%%%\")"
   ]
  },
  {
   "cell_type": "code",
   "execution_count": 286,
   "metadata": {},
   "outputs": [
    {
     "name": "stderr",
     "output_type": "stream",
     "text": [
      "c:\\Users\\pbodh\\AppData\\Local\\Programs\\Python\\Python310\\lib\\site-packages\\xgboost\\data.py:1037: UserWarning: Unknown data type: <class 'xgboost.core.DMatrix'>, trying to convert it to csr_matrix\n",
      "  warnings.warn(\n"
     ]
    },
    {
     "ename": "TypeError",
     "evalue": "Not supported type for data.<class 'xgboost.core.DMatrix'>",
     "output_type": "error",
     "traceback": [
      "\u001b[1;31m---------------------------------------------------------------------------\u001b[0m",
      "\u001b[1;31mTypeError\u001b[0m                                 Traceback (most recent call last)",
      "Cell \u001b[1;32mIn[286], line 1\u001b[0m\n\u001b[1;32m----> 1\u001b[0m y_pred_prob \u001b[38;5;241m=\u001b[39m \u001b[43mmodel\u001b[49m\u001b[38;5;241;43m.\u001b[39;49m\u001b[43mpredict\u001b[49m\u001b[43m(\u001b[49m\u001b[43mdtest1\u001b[49m\u001b[43m)\u001b[49m\n",
      "File \u001b[1;32mc:\\Users\\pbodh\\AppData\\Local\\Programs\\Python\\Python310\\lib\\site-packages\\xgboost\\sklearn.py:1185\u001b[0m, in \u001b[0;36mXGBModel.predict\u001b[1;34m(self, X, output_margin, validate_features, base_margin, iteration_range)\u001b[0m\n\u001b[0;32m   1181\u001b[0m     \u001b[38;5;28;01mexcept\u001b[39;00m \u001b[38;5;167;01mTypeError\u001b[39;00m:\n\u001b[0;32m   1182\u001b[0m         \u001b[38;5;66;03m# coo, csc, dt\u001b[39;00m\n\u001b[0;32m   1183\u001b[0m         \u001b[38;5;28;01mpass\u001b[39;00m\n\u001b[1;32m-> 1185\u001b[0m test \u001b[38;5;241m=\u001b[39m \u001b[43mDMatrix\u001b[49m\u001b[43m(\u001b[49m\n\u001b[0;32m   1186\u001b[0m \u001b[43m    \u001b[49m\u001b[43mX\u001b[49m\u001b[43m,\u001b[49m\n\u001b[0;32m   1187\u001b[0m \u001b[43m    \u001b[49m\u001b[43mbase_margin\u001b[49m\u001b[38;5;241;43m=\u001b[39;49m\u001b[43mbase_margin\u001b[49m\u001b[43m,\u001b[49m\n\u001b[0;32m   1188\u001b[0m \u001b[43m    \u001b[49m\u001b[43mmissing\u001b[49m\u001b[38;5;241;43m=\u001b[39;49m\u001b[38;5;28;43mself\u001b[39;49m\u001b[38;5;241;43m.\u001b[39;49m\u001b[43mmissing\u001b[49m\u001b[43m,\u001b[49m\n\u001b[0;32m   1189\u001b[0m \u001b[43m    \u001b[49m\u001b[43mnthread\u001b[49m\u001b[38;5;241;43m=\u001b[39;49m\u001b[38;5;28;43mself\u001b[39;49m\u001b[38;5;241;43m.\u001b[39;49m\u001b[43mn_jobs\u001b[49m\u001b[43m,\u001b[49m\n\u001b[0;32m   1190\u001b[0m \u001b[43m    \u001b[49m\u001b[43mfeature_types\u001b[49m\u001b[38;5;241;43m=\u001b[39;49m\u001b[38;5;28;43mself\u001b[39;49m\u001b[38;5;241;43m.\u001b[39;49m\u001b[43mfeature_types\u001b[49m\u001b[43m,\u001b[49m\n\u001b[0;32m   1191\u001b[0m \u001b[43m    \u001b[49m\u001b[43menable_categorical\u001b[49m\u001b[38;5;241;43m=\u001b[39;49m\u001b[38;5;28;43mself\u001b[39;49m\u001b[38;5;241;43m.\u001b[39;49m\u001b[43menable_categorical\u001b[49m\u001b[43m,\u001b[49m\n\u001b[0;32m   1192\u001b[0m \u001b[43m\u001b[49m\u001b[43m)\u001b[49m\n\u001b[0;32m   1193\u001b[0m \u001b[38;5;28;01mreturn\u001b[39;00m \u001b[38;5;28mself\u001b[39m\u001b[38;5;241m.\u001b[39mget_booster()\u001b[38;5;241m.\u001b[39mpredict(\n\u001b[0;32m   1194\u001b[0m     data\u001b[38;5;241m=\u001b[39mtest,\n\u001b[0;32m   1195\u001b[0m     iteration_range\u001b[38;5;241m=\u001b[39miteration_range,\n\u001b[0;32m   1196\u001b[0m     output_margin\u001b[38;5;241m=\u001b[39moutput_margin,\n\u001b[0;32m   1197\u001b[0m     validate_features\u001b[38;5;241m=\u001b[39mvalidate_features,\n\u001b[0;32m   1198\u001b[0m )\n",
      "File \u001b[1;32mc:\\Users\\pbodh\\AppData\\Local\\Programs\\Python\\Python310\\lib\\site-packages\\xgboost\\core.py:730\u001b[0m, in \u001b[0;36mrequire_keyword_args.<locals>.throw_if.<locals>.inner_f\u001b[1;34m(*args, **kwargs)\u001b[0m\n\u001b[0;32m    728\u001b[0m \u001b[38;5;28;01mfor\u001b[39;00m k, arg \u001b[38;5;129;01min\u001b[39;00m \u001b[38;5;28mzip\u001b[39m(sig\u001b[38;5;241m.\u001b[39mparameters, args):\n\u001b[0;32m    729\u001b[0m     kwargs[k] \u001b[38;5;241m=\u001b[39m arg\n\u001b[1;32m--> 730\u001b[0m \u001b[38;5;28;01mreturn\u001b[39;00m func(\u001b[38;5;241m*\u001b[39m\u001b[38;5;241m*\u001b[39mkwargs)\n",
      "File \u001b[1;32mc:\\Users\\pbodh\\AppData\\Local\\Programs\\Python\\Python310\\lib\\site-packages\\xgboost\\core.py:857\u001b[0m, in \u001b[0;36mDMatrix.__init__\u001b[1;34m(self, data, label, weight, base_margin, missing, silent, feature_names, feature_types, nthread, group, qid, label_lower_bound, label_upper_bound, feature_weights, enable_categorical, data_split_mode)\u001b[0m\n\u001b[0;32m    854\u001b[0m     \u001b[38;5;28;01massert\u001b[39;00m \u001b[38;5;28mself\u001b[39m\u001b[38;5;241m.\u001b[39mhandle \u001b[38;5;129;01mis\u001b[39;00m \u001b[38;5;129;01mnot\u001b[39;00m \u001b[38;5;28;01mNone\u001b[39;00m\n\u001b[0;32m    855\u001b[0m     \u001b[38;5;28;01mreturn\u001b[39;00m\n\u001b[1;32m--> 857\u001b[0m handle, feature_names, feature_types \u001b[38;5;241m=\u001b[39m \u001b[43mdispatch_data_backend\u001b[49m\u001b[43m(\u001b[49m\n\u001b[0;32m    858\u001b[0m \u001b[43m    \u001b[49m\u001b[43mdata\u001b[49m\u001b[43m,\u001b[49m\n\u001b[0;32m    859\u001b[0m \u001b[43m    \u001b[49m\u001b[43mmissing\u001b[49m\u001b[38;5;241;43m=\u001b[39;49m\u001b[38;5;28;43mself\u001b[39;49m\u001b[38;5;241;43m.\u001b[39;49m\u001b[43mmissing\u001b[49m\u001b[43m,\u001b[49m\n\u001b[0;32m    860\u001b[0m \u001b[43m    \u001b[49m\u001b[43mthreads\u001b[49m\u001b[38;5;241;43m=\u001b[39;49m\u001b[38;5;28;43mself\u001b[39;49m\u001b[38;5;241;43m.\u001b[39;49m\u001b[43mnthread\u001b[49m\u001b[43m,\u001b[49m\n\u001b[0;32m    861\u001b[0m \u001b[43m    \u001b[49m\u001b[43mfeature_names\u001b[49m\u001b[38;5;241;43m=\u001b[39;49m\u001b[43mfeature_names\u001b[49m\u001b[43m,\u001b[49m\n\u001b[0;32m    862\u001b[0m \u001b[43m    \u001b[49m\u001b[43mfeature_types\u001b[49m\u001b[38;5;241;43m=\u001b[39;49m\u001b[43mfeature_types\u001b[49m\u001b[43m,\u001b[49m\n\u001b[0;32m    863\u001b[0m \u001b[43m    \u001b[49m\u001b[43menable_categorical\u001b[49m\u001b[38;5;241;43m=\u001b[39;49m\u001b[43menable_categorical\u001b[49m\u001b[43m,\u001b[49m\n\u001b[0;32m    864\u001b[0m \u001b[43m    \u001b[49m\u001b[43mdata_split_mode\u001b[49m\u001b[38;5;241;43m=\u001b[39;49m\u001b[43mdata_split_mode\u001b[49m\u001b[43m,\u001b[49m\n\u001b[0;32m    865\u001b[0m \u001b[43m\u001b[49m\u001b[43m)\u001b[49m\n\u001b[0;32m    866\u001b[0m \u001b[38;5;28;01massert\u001b[39;00m handle \u001b[38;5;129;01mis\u001b[39;00m \u001b[38;5;129;01mnot\u001b[39;00m \u001b[38;5;28;01mNone\u001b[39;00m\n\u001b[0;32m    867\u001b[0m \u001b[38;5;28mself\u001b[39m\u001b[38;5;241m.\u001b[39mhandle \u001b[38;5;241m=\u001b[39m handle\n",
      "File \u001b[1;32mc:\\Users\\pbodh\\AppData\\Local\\Programs\\Python\\Python310\\lib\\site-packages\\xgboost\\data.py:1131\u001b[0m, in \u001b[0;36mdispatch_data_backend\u001b[1;34m(data, missing, threads, feature_names, feature_types, enable_categorical, data_split_mode)\u001b[0m\n\u001b[0;32m   1126\u001b[0m \u001b[38;5;28;01mif\u001b[39;00m converted \u001b[38;5;129;01mis\u001b[39;00m \u001b[38;5;129;01mnot\u001b[39;00m \u001b[38;5;28;01mNone\u001b[39;00m:\n\u001b[0;32m   1127\u001b[0m     \u001b[38;5;28;01mreturn\u001b[39;00m _from_scipy_csr(\n\u001b[0;32m   1128\u001b[0m         converted, missing, threads, feature_names, feature_types\n\u001b[0;32m   1129\u001b[0m     )\n\u001b[1;32m-> 1131\u001b[0m \u001b[38;5;28;01mraise\u001b[39;00m \u001b[38;5;167;01mTypeError\u001b[39;00m(\u001b[38;5;124m\"\u001b[39m\u001b[38;5;124mNot supported type for data.\u001b[39m\u001b[38;5;124m\"\u001b[39m \u001b[38;5;241m+\u001b[39m \u001b[38;5;28mstr\u001b[39m(\u001b[38;5;28mtype\u001b[39m(data)))\n",
      "\u001b[1;31mTypeError\u001b[0m: Not supported type for data.<class 'xgboost.core.DMatrix'>"
     ]
    }
   ],
   "source": [
    "y_pred_prob = model.predict(dtest1)"
   ]
  },
  {
   "cell_type": "code",
   "execution_count": null,
   "metadata": {},
   "outputs": [],
   "source": [
    "\n",
    "from sklearn.metrics import mean_absolute_error, mean_squared_error"
   ]
  },
  {
   "cell_type": "code",
   "execution_count": null,
   "metadata": {},
   "outputs": [
    {
     "name": "stdout",
     "output_type": "stream",
     "text": [
      "14732264488.436035\n"
     ]
    }
   ],
   "source": [
    "print(mean_squared_error(y_test,y_pred_prob))\n",
    "# print(mean_absolute_error(y_test_scaled,y_pred_prob))\n"
   ]
  },
  {
   "cell_type": "code",
   "execution_count": null,
   "metadata": {},
   "outputs": [
    {
     "name": "stdout",
     "output_type": "stream",
     "text": [
      "RangeIndex(start=0, stop=12, step=1)\n"
     ]
    }
   ],
   "source": [
    "data = np.array([[100,100,100,100,100,100,100,100,100,100,100,100],[200,200,200,200,200,200,200,200,200,200,200,200]])\n",
    "df1 = pd.DataFrame(data)\n",
    "print(df1.columns)"
   ]
  },
  {
   "cell_type": "code",
   "execution_count": null,
   "metadata": {},
   "outputs": [],
   "source": []
  }
 ],
 "metadata": {
  "kernelspec": {
   "display_name": "Python 3",
   "language": "python",
   "name": "python3"
  },
  "language_info": {
   "codemirror_mode": {
    "name": "ipython",
    "version": 3
   },
   "file_extension": ".py",
   "mimetype": "text/x-python",
   "name": "python",
   "nbconvert_exporter": "python",
   "pygments_lexer": "ipython3",
   "version": "3.10.8"
  }
 },
 "nbformat": 4,
 "nbformat_minor": 2
}
