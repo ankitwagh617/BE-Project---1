{
 "cells": [
  {
   "cell_type": "code",
   "execution_count": 25,
   "id": "38ab1c4b",
   "metadata": {},
   "outputs": [],
   "source": [
    "import numpy as np \n",
    "import pandas as pd \n",
    "import requests, io \n",
    "import matplotlib.pyplot as plt "
   ]
  },
  {
   "cell_type": "code",
   "execution_count": 26,
   "id": "90486ebe",
   "metadata": {},
   "outputs": [],
   "source": [
    "# scikit-learn modules\n",
    "from sklearn.model_selection import train_test_split # for splitting the data\n",
    "from sklearn.metrics import mean_squared_error, mean_absolute_error # for calculating the cost function\n",
    "from sklearn.ensemble import RandomForestRegressor # for building the model\n"
   ]
  },
  {
   "cell_type": "code",
   "execution_count": 27,
   "id": "8dc54fca",
   "metadata": {},
   "outputs": [
    {
     "data": {
      "text/html": [
       "<div>\n",
       "<style scoped>\n",
       "    .dataframe tbody tr th:only-of-type {\n",
       "        vertical-align: middle;\n",
       "    }\n",
       "\n",
       "    .dataframe tbody tr th {\n",
       "        vertical-align: top;\n",
       "    }\n",
       "\n",
       "    .dataframe thead th {\n",
       "        text-align: right;\n",
       "    }\n",
       "</style>\n",
       "<table border=\"1\" class=\"dataframe\">\n",
       "  <thead>\n",
       "    <tr style=\"text-align: right;\">\n",
       "      <th></th>\n",
       "      <th>Unnamed: 0</th>\n",
       "      <th>Name</th>\n",
       "      <th>Jan</th>\n",
       "      <th>Feb</th>\n",
       "      <th>Mar</th>\n",
       "      <th>Apr</th>\n",
       "      <th>May</th>\n",
       "      <th>Jun</th>\n",
       "      <th>Jul</th>\n",
       "      <th>Aug</th>\n",
       "      <th>...</th>\n",
       "      <th>Age</th>\n",
       "      <th>Gender</th>\n",
       "      <th>TransactionCount</th>\n",
       "      <th>Duration</th>\n",
       "      <th>Peak Season</th>\n",
       "      <th>Before Season months</th>\n",
       "      <th>Months left for End of Season</th>\n",
       "      <th>AVG Sales</th>\n",
       "      <th>avg order cost</th>\n",
       "      <th>Loan Amount</th>\n",
       "    </tr>\n",
       "  </thead>\n",
       "  <tbody>\n",
       "    <tr>\n",
       "      <th>0</th>\n",
       "      <td>0</td>\n",
       "      <td>Chad Smith</td>\n",
       "      <td>179018.86</td>\n",
       "      <td>177120.88</td>\n",
       "      <td>174173.55</td>\n",
       "      <td>122734.36</td>\n",
       "      <td>362590.35</td>\n",
       "      <td>365079.62</td>\n",
       "      <td>249214.28</td>\n",
       "      <td>242866.21</td>\n",
       "      <td>...</td>\n",
       "      <td>74</td>\n",
       "      <td>1</td>\n",
       "      <td>3273</td>\n",
       "      <td>8</td>\n",
       "      <td>0</td>\n",
       "      <td>3</td>\n",
       "      <td>7</td>\n",
       "      <td>271315</td>\n",
       "      <td>82.894898</td>\n",
       "      <td>570652.374624</td>\n",
       "    </tr>\n",
       "    <tr>\n",
       "      <th>1</th>\n",
       "      <td>1</td>\n",
       "      <td>Ronald Collins</td>\n",
       "      <td>42555.73</td>\n",
       "      <td>63249.06</td>\n",
       "      <td>40379.44</td>\n",
       "      <td>57876.43</td>\n",
       "      <td>49185.06</td>\n",
       "      <td>54559.53</td>\n",
       "      <td>51300.02</td>\n",
       "      <td>108893.08</td>\n",
       "      <td>...</td>\n",
       "      <td>58</td>\n",
       "      <td>1</td>\n",
       "      <td>3103</td>\n",
       "      <td>21</td>\n",
       "      <td>1</td>\n",
       "      <td>0</td>\n",
       "      <td>1</td>\n",
       "      <td>60072</td>\n",
       "      <td>19.359330</td>\n",
       "      <td>212107.255479</td>\n",
       "    </tr>\n",
       "    <tr>\n",
       "      <th>2</th>\n",
       "      <td>2</td>\n",
       "      <td>Darryl Brown</td>\n",
       "      <td>135601.47</td>\n",
       "      <td>174790.03</td>\n",
       "      <td>133235.49</td>\n",
       "      <td>209354.95</td>\n",
       "      <td>180334.22</td>\n",
       "      <td>144941.36</td>\n",
       "      <td>158670.00</td>\n",
       "      <td>480330.37</td>\n",
       "      <td>...</td>\n",
       "      <td>23</td>\n",
       "      <td>1</td>\n",
       "      <td>4770</td>\n",
       "      <td>5</td>\n",
       "      <td>1</td>\n",
       "      <td>0</td>\n",
       "      <td>0</td>\n",
       "      <td>194417</td>\n",
       "      <td>40.758281</td>\n",
       "      <td>756066.371479</td>\n",
       "    </tr>\n",
       "    <tr>\n",
       "      <th>3</th>\n",
       "      <td>3</td>\n",
       "      <td>Becky Williams</td>\n",
       "      <td>145533.08</td>\n",
       "      <td>194858.86</td>\n",
       "      <td>517763.56</td>\n",
       "      <td>587363.81</td>\n",
       "      <td>194260.81</td>\n",
       "      <td>238350.12</td>\n",
       "      <td>138048.70</td>\n",
       "      <td>176593.62</td>\n",
       "      <td>...</td>\n",
       "      <td>34</td>\n",
       "      <td>1</td>\n",
       "      <td>405</td>\n",
       "      <td>6</td>\n",
       "      <td>0</td>\n",
       "      <td>3</td>\n",
       "      <td>1</td>\n",
       "      <td>242533</td>\n",
       "      <td>598.846914</td>\n",
       "      <td>444750.202464</td>\n",
       "    </tr>\n",
       "    <tr>\n",
       "      <th>4</th>\n",
       "      <td>4</td>\n",
       "      <td>Jennifer Bruce</td>\n",
       "      <td>111695.66</td>\n",
       "      <td>92337.60</td>\n",
       "      <td>104144.36</td>\n",
       "      <td>89659.33</td>\n",
       "      <td>145544.96</td>\n",
       "      <td>235337.56</td>\n",
       "      <td>276935.12</td>\n",
       "      <td>108437.74</td>\n",
       "      <td>...</td>\n",
       "      <td>48</td>\n",
       "      <td>0</td>\n",
       "      <td>224</td>\n",
       "      <td>11</td>\n",
       "      <td>0</td>\n",
       "      <td>3</td>\n",
       "      <td>1</td>\n",
       "      <td>136020</td>\n",
       "      <td>607.232143</td>\n",
       "      <td>388170.371595</td>\n",
       "    </tr>\n",
       "  </tbody>\n",
       "</table>\n",
       "<p>5 rows × 24 columns</p>\n",
       "</div>"
      ],
      "text/plain": [
       "   Unnamed: 0            Name        Jan        Feb        Mar        Apr  \\\n",
       "0           0      Chad Smith  179018.86  177120.88  174173.55  122734.36   \n",
       "1           1  Ronald Collins   42555.73   63249.06   40379.44   57876.43   \n",
       "2           2    Darryl Brown  135601.47  174790.03  133235.49  209354.95   \n",
       "3           3  Becky Williams  145533.08  194858.86  517763.56  587363.81   \n",
       "4           4  Jennifer Bruce  111695.66   92337.60  104144.36   89659.33   \n",
       "\n",
       "         May        Jun        Jul        Aug  ...  Age  Gender  \\\n",
       "0  362590.35  365079.62  249214.28  242866.21  ...   74       1   \n",
       "1   49185.06   54559.53   51300.02  108893.08  ...   58       1   \n",
       "2  180334.22  144941.36  158670.00  480330.37  ...   23       1   \n",
       "3  194260.81  238350.12  138048.70  176593.62  ...   34       1   \n",
       "4  145544.96  235337.56  276935.12  108437.74  ...   48       0   \n",
       "\n",
       "   TransactionCount  Duration  Peak Season  Before Season months  \\\n",
       "0              3273         8            0                     3   \n",
       "1              3103        21            1                     0   \n",
       "2              4770         5            1                     0   \n",
       "3               405         6            0                     3   \n",
       "4               224        11            0                     3   \n",
       "\n",
       "   Months left for End of Season  AVG Sales  avg order cost    Loan Amount  \n",
       "0                              7     271315       82.894898  570652.374624  \n",
       "1                              1      60072       19.359330  212107.255479  \n",
       "2                              0     194417       40.758281  756066.371479  \n",
       "3                              1     242533      598.846914  444750.202464  \n",
       "4                              1     136020      607.232143  388170.371595  \n",
       "\n",
       "[5 rows x 24 columns]"
      ]
     },
     "execution_count": 27,
     "metadata": {},
     "output_type": "execute_result"
    }
   ],
   "source": [
    "df = pd.read_csv(\"../data2.csv\")\n",
    "df.head()"
   ]
  },
  {
   "cell_type": "code",
   "execution_count": 28,
   "id": "614edff2",
   "metadata": {},
   "outputs": [],
   "source": [
    "df = df.drop(['Name','Peak Season','Before Season months', 'Months left for End of Season','Gender'],axis = 1)\n",
    "df = df.drop(['TransactionCount','Unnamed: 0'],axis = 1)"
   ]
  },
  {
   "cell_type": "code",
   "execution_count": 29,
   "id": "708f8114",
   "metadata": {},
   "outputs": [],
   "source": [
    "x = df.iloc[:,0:16]\n",
    "y = df.iloc[:,16:17]"
   ]
  },
  {
   "cell_type": "code",
   "execution_count": 30,
   "id": "5b7342ab",
   "metadata": {},
   "outputs": [],
   "source": [
    "X_train, X_test, y_train, y_test = train_test_split(x, y, test_size = 0.2, random_state = 28)\n",
    "\n",
    "from sklearn.preprocessing import StandardScaler\n",
    "scaler = StandardScaler()\n",
    "\n",
    "X_train_scaled = scaler.fit_transform(X_train)\n",
    "X_test_scaled = scaler.transform(X_test)    \n",
    "y_train_scaled = scaler.fit_transform(y_train)\n",
    "y_test_scaled = scaler.transform(y_test)"
   ]
  },
  {
   "cell_type": "code",
   "execution_count": 31,
   "id": "3d7b74e8",
   "metadata": {},
   "outputs": [],
   "source": [
    "model = RandomForestRegressor(n_estimators = 10, random_state = 0)"
   ]
  },
  {
   "cell_type": "code",
   "execution_count": 32,
   "id": "202f1776",
   "metadata": {},
   "outputs": [
    {
     "name": "stderr",
     "output_type": "stream",
     "text": [
      "c:\\Users\\pbodh\\AppData\\Local\\Programs\\Python\\Python310\\lib\\site-packages\\sklearn\\base.py:1152: DataConversionWarning: A column-vector y was passed when a 1d array was expected. Please change the shape of y to (n_samples,), for example using ravel().\n",
      "  return fit_method(estimator, *args, **kwargs)\n"
     ]
    },
    {
     "data": {
      "text/html": [
       "<style>#sk-container-id-3 {color: black;}#sk-container-id-3 pre{padding: 0;}#sk-container-id-3 div.sk-toggleable {background-color: white;}#sk-container-id-3 label.sk-toggleable__label {cursor: pointer;display: block;width: 100%;margin-bottom: 0;padding: 0.3em;box-sizing: border-box;text-align: center;}#sk-container-id-3 label.sk-toggleable__label-arrow:before {content: \"▸\";float: left;margin-right: 0.25em;color: #696969;}#sk-container-id-3 label.sk-toggleable__label-arrow:hover:before {color: black;}#sk-container-id-3 div.sk-estimator:hover label.sk-toggleable__label-arrow:before {color: black;}#sk-container-id-3 div.sk-toggleable__content {max-height: 0;max-width: 0;overflow: hidden;text-align: left;background-color: #f0f8ff;}#sk-container-id-3 div.sk-toggleable__content pre {margin: 0.2em;color: black;border-radius: 0.25em;background-color: #f0f8ff;}#sk-container-id-3 input.sk-toggleable__control:checked~div.sk-toggleable__content {max-height: 200px;max-width: 100%;overflow: auto;}#sk-container-id-3 input.sk-toggleable__control:checked~label.sk-toggleable__label-arrow:before {content: \"▾\";}#sk-container-id-3 div.sk-estimator input.sk-toggleable__control:checked~label.sk-toggleable__label {background-color: #d4ebff;}#sk-container-id-3 div.sk-label input.sk-toggleable__control:checked~label.sk-toggleable__label {background-color: #d4ebff;}#sk-container-id-3 input.sk-hidden--visually {border: 0;clip: rect(1px 1px 1px 1px);clip: rect(1px, 1px, 1px, 1px);height: 1px;margin: -1px;overflow: hidden;padding: 0;position: absolute;width: 1px;}#sk-container-id-3 div.sk-estimator {font-family: monospace;background-color: #f0f8ff;border: 1px dotted black;border-radius: 0.25em;box-sizing: border-box;margin-bottom: 0.5em;}#sk-container-id-3 div.sk-estimator:hover {background-color: #d4ebff;}#sk-container-id-3 div.sk-parallel-item::after {content: \"\";width: 100%;border-bottom: 1px solid gray;flex-grow: 1;}#sk-container-id-3 div.sk-label:hover label.sk-toggleable__label {background-color: #d4ebff;}#sk-container-id-3 div.sk-serial::before {content: \"\";position: absolute;border-left: 1px solid gray;box-sizing: border-box;top: 0;bottom: 0;left: 50%;z-index: 0;}#sk-container-id-3 div.sk-serial {display: flex;flex-direction: column;align-items: center;background-color: white;padding-right: 0.2em;padding-left: 0.2em;position: relative;}#sk-container-id-3 div.sk-item {position: relative;z-index: 1;}#sk-container-id-3 div.sk-parallel {display: flex;align-items: stretch;justify-content: center;background-color: white;position: relative;}#sk-container-id-3 div.sk-item::before, #sk-container-id-3 div.sk-parallel-item::before {content: \"\";position: absolute;border-left: 1px solid gray;box-sizing: border-box;top: 0;bottom: 0;left: 50%;z-index: -1;}#sk-container-id-3 div.sk-parallel-item {display: flex;flex-direction: column;z-index: 1;position: relative;background-color: white;}#sk-container-id-3 div.sk-parallel-item:first-child::after {align-self: flex-end;width: 50%;}#sk-container-id-3 div.sk-parallel-item:last-child::after {align-self: flex-start;width: 50%;}#sk-container-id-3 div.sk-parallel-item:only-child::after {width: 0;}#sk-container-id-3 div.sk-dashed-wrapped {border: 1px dashed gray;margin: 0 0.4em 0.5em 0.4em;box-sizing: border-box;padding-bottom: 0.4em;background-color: white;}#sk-container-id-3 div.sk-label label {font-family: monospace;font-weight: bold;display: inline-block;line-height: 1.2em;}#sk-container-id-3 div.sk-label-container {text-align: center;}#sk-container-id-3 div.sk-container {/* jupyter's `normalize.less` sets `[hidden] { display: none; }` but bootstrap.min.css set `[hidden] { display: none !important; }` so we also need the `!important` here to be able to override the default hidden behavior on the sphinx rendered scikit-learn.org. See: https://github.com/scikit-learn/scikit-learn/issues/21755 */display: inline-block !important;position: relative;}#sk-container-id-3 div.sk-text-repr-fallback {display: none;}</style><div id=\"sk-container-id-3\" class=\"sk-top-container\"><div class=\"sk-text-repr-fallback\"><pre>RandomForestRegressor(n_estimators=10, random_state=0)</pre><b>In a Jupyter environment, please rerun this cell to show the HTML representation or trust the notebook. <br />On GitHub, the HTML representation is unable to render, please try loading this page with nbviewer.org.</b></div><div class=\"sk-container\" hidden><div class=\"sk-item\"><div class=\"sk-estimator sk-toggleable\"><input class=\"sk-toggleable__control sk-hidden--visually\" id=\"sk-estimator-id-3\" type=\"checkbox\" checked><label for=\"sk-estimator-id-3\" class=\"sk-toggleable__label sk-toggleable__label-arrow\">RandomForestRegressor</label><div class=\"sk-toggleable__content\"><pre>RandomForestRegressor(n_estimators=10, random_state=0)</pre></div></div></div></div></div>"
      ],
      "text/plain": [
       "RandomForestRegressor(n_estimators=10, random_state=0)"
      ]
     },
     "execution_count": 32,
     "metadata": {},
     "output_type": "execute_result"
    }
   ],
   "source": [
    "model.fit(X_train_scaled, y_train_scaled) "
   ]
  },
  {
   "cell_type": "code",
   "execution_count": 33,
   "id": "c2ccb7a1",
   "metadata": {},
   "outputs": [],
   "source": [
    "y_pred = model.predict(X_test_scaled)\n"
   ]
  },
  {
   "cell_type": "code",
   "execution_count": 34,
   "id": "41f19817",
   "metadata": {},
   "outputs": [
    {
     "name": "stdout",
     "output_type": "stream",
     "text": [
      "\n",
      "RMSE:\n",
      " 0.577\n",
      "0.4235918201609064\n"
     ]
    }
   ],
   "source": [
    "rmse = float(format(np.sqrt(mean_squared_error(y_test_scaled, y_pred)),'.3f'))\n",
    "print(\"\\nRMSE:\\n\",rmse)\n",
    "\n",
    "print(mean_absolute_error(y_test_scaled,y_pred))"
   ]
  },
  {
   "cell_type": "code",
   "execution_count": null,
   "id": "771b63b8",
   "metadata": {},
   "outputs": [],
   "source": []
  }
 ],
 "metadata": {
  "kernelspec": {
   "display_name": "Python 3 (ipykernel)",
   "language": "python",
   "name": "python3"
  },
  "language_info": {
   "codemirror_mode": {
    "name": "ipython",
    "version": 3
   },
   "file_extension": ".py",
   "mimetype": "text/x-python",
   "name": "python",
   "nbconvert_exporter": "python",
   "pygments_lexer": "ipython3",
   "version": "3.10.8"
  }
 },
 "nbformat": 4,
 "nbformat_minor": 5
}
