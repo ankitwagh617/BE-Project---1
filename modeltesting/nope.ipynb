{
 "cells": [
  {
   "cell_type": "code",
   "execution_count": 1,
   "metadata": {},
   "outputs": [],
   "source": [
    "import numpy as np"
   ]
  },
  {
   "cell_type": "code",
   "execution_count": 2,
   "metadata": {},
   "outputs": [],
   "source": [
    "from tensorflow.keras.models import Sequential\n",
    "from tensorflow.keras.layers import LSTM\n",
    "from tensorflow.keras.layers import Dense\n",
    "from tensorflow.keras.layers import Flatten\n"
   ]
  },
  {
   "cell_type": "code",
   "execution_count": 3,
   "metadata": {},
   "outputs": [],
   "source": [
    "import pandas as pd"
   ]
  },
  {
   "cell_type": "code",
   "execution_count": 4,
   "metadata": {},
   "outputs": [],
   "source": [
    "df = pd.read_csv(\"../data2.csv\")"
   ]
  },
  {
   "cell_type": "code",
   "execution_count": 5,
   "metadata": {},
   "outputs": [],
   "source": [
    "df = df.drop(['Name','Peak Season','Before Season months', 'Months left for End of Season','Gender'],axis = 1)\n",
    "df = df.drop(['TransactionCount','Unnamed: 0'],axis = 1)"
   ]
  },
  {
   "cell_type": "code",
   "execution_count": 6,
   "metadata": {},
   "outputs": [],
   "source": [
    "# preparing independent and dependent features\n",
    "def prepare_data(timeseries,n_features):\n",
    "    X,y = [], []\n",
    "    for i in range(len(timeseries)):\n",
    "        # find the end of this pattern\n",
    "        end_ix = i + n_features\n",
    "        # check if are beyond the sequence\n",
    "        if end_ix > len(timeseries)-1:\n",
    "            break\n",
    "        # gather input and output parts of the pattern\n",
    "        seq_x, seq_y = timeseries[i:end_ix], timeseries[end_ix]\n",
    "        X.append(seq_x)\n",
    "        y.append(seq_y)\n",
    "\n",
    "\n",
    "    return np.array(X), np.array(y)"
   ]
  },
  {
   "cell_type": "code",
   "execution_count": 8,
   "metadata": {},
   "outputs": [],
   "source": [
    "x, y = prepare_data()\n",
    "model = Sequential()\n",
    "model.add(LSTM(50,activation='relu',return_sequences=True, input_shape = (6,1)))\n",
    "model.add(LSTM(50,activation='relu'))\n",
    "model.add(Dense(1))\n",
    "model.compile(optimizer = 'adam',loss = 'mse')\n",
    "model.fit(x,y,epochs = 50,verbose = 0)"
   ]
  },
  {
   "cell_type": "code",
   "execution_count": null,
   "metadata": {},
   "outputs": [],
   "source": [
    "x_input = np.array(x_for_row_training[5:12])\n",
    "temp_input = list(x_input)\n",
    "temp_output = []\n",
    "i = 0\n",
    "while (i<12):\n",
    "    if (len(temp_input) > 3):\n",
    "        x_input = np.array(temp_input[1:])\n",
    "        x_input = x_input.reshape((1,6,1))\n",
    "        yhat = model_formed.predict(x_input,verbose = 0)\n",
    "        temp_input.append(yhat[0][0])\n",
    "        temp_input = temp_input[1:]\n",
    "        temp_output.append(yhat[0][0])\n",
    "        i = i + 1\n",
    "    else:\n",
    "        x_input = x_input.reshape((1,6,1))\n",
    "        yhat = model_formed.predict(x_input,verbose = 0)\n",
    "        temp_input.append(yhat[0][0])\n",
    "        temp_output.append(yhat[0][0])\n",
    "        i = i + 1\n",
    "\n",
    "lst_output.append(temp_output)"
   ]
  }
 ],
 "metadata": {
  "kernelspec": {
   "display_name": "Python 3",
   "language": "python",
   "name": "python3"
  },
  "language_info": {
   "codemirror_mode": {
    "name": "ipython",
    "version": 3
   },
   "file_extension": ".py",
   "mimetype": "text/x-python",
   "name": "python",
   "nbconvert_exporter": "python",
   "pygments_lexer": "ipython3",
   "version": "3.10.8"
  }
 },
 "nbformat": 4,
 "nbformat_minor": 2
}
