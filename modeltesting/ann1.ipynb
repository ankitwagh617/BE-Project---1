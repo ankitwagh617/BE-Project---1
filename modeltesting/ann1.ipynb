{
 "cells": [
  {
   "cell_type": "code",
   "execution_count": 4,
   "metadata": {},
   "outputs": [],
   "source": [
    "import pandas as pd"
   ]
  },
  {
   "cell_type": "code",
   "execution_count": 5,
   "metadata": {},
   "outputs": [],
   "source": [
    "import numpy as np\n"
   ]
  },
  {
   "cell_type": "code",
   "execution_count": 6,
   "metadata": {},
   "outputs": [],
   "source": [
    "df = pd.read_csv(\"../data2.csv\")"
   ]
  },
  {
   "cell_type": "code",
   "execution_count": 7,
   "metadata": {},
   "outputs": [],
   "source": [
    "df = df.drop(['Name','Peak Season','Before Season months', 'Months left for End of Season','Gender'],axis = 1)"
   ]
  },
  {
   "cell_type": "code",
   "execution_count": 8,
   "metadata": {},
   "outputs": [],
   "source": [
    "df = df.drop(['TransactionCount','Unnamed: 0'],axis = 1)"
   ]
  },
  {
   "cell_type": "code",
   "execution_count": 9,
   "metadata": {},
   "outputs": [],
   "source": [
    "x = df.iloc[:,0:12]\n",
    "y = df.iloc[:,16:17]"
   ]
  },
  {
   "cell_type": "code",
   "execution_count": 10,
   "metadata": {},
   "outputs": [],
   "source": [
    "from sklearn.model_selection import train_test_split\n",
    "X_train, X_test, y_train, y_test = train_test_split(x, y, test_size = 0.3, random_state = 0)"
   ]
  },
  {
   "cell_type": "code",
   "execution_count": 11,
   "metadata": {},
   "outputs": [],
   "source": [
    "from keras.models import Sequential\n",
    "from keras.layers import Dense, Dropout, LSTM\n",
    "from keras.optimizers import Adam"
   ]
  },
  {
   "cell_type": "code",
   "execution_count": 12,
   "metadata": {},
   "outputs": [],
   "source": [
    "model = Sequential()"
   ]
  },
  {
   "cell_type": "code",
   "execution_count": 13,
   "metadata": {},
   "outputs": [
    {
     "name": "stdout",
     "output_type": "stream",
     "text": [
      "Epoch 1/64\n",
      "9/9 - 2s - loss: 156013690880.0000 - mean_squared_error: 156013690880.0000 - val_loss: 121749061632.0000 - val_mean_squared_error: 121749061632.0000 - 2s/epoch - 212ms/step\n",
      "Epoch 2/64\n",
      "9/9 - 0s - loss: 103885660160.0000 - mean_squared_error: 103885660160.0000 - val_loss: 79194955776.0000 - val_mean_squared_error: 79194955776.0000 - 114ms/epoch - 13ms/step\n",
      "Epoch 3/64\n",
      "9/9 - 0s - loss: 62043746304.0000 - mean_squared_error: 62043746304.0000 - val_loss: 38363176960.0000 - val_mean_squared_error: 38363176960.0000 - 133ms/epoch - 15ms/step\n",
      "Epoch 4/64\n",
      "9/9 - 0s - loss: 30550315008.0000 - mean_squared_error: 30550315008.0000 - val_loss: 20225585152.0000 - val_mean_squared_error: 20225585152.0000 - 125ms/epoch - 14ms/step\n",
      "Epoch 5/64\n",
      "9/9 - 0s - loss: 30798952448.0000 - mean_squared_error: 30798952448.0000 - val_loss: 24256024576.0000 - val_mean_squared_error: 24256024576.0000 - 112ms/epoch - 12ms/step\n",
      "Epoch 6/64\n",
      "9/9 - 0s - loss: 32815863808.0000 - mean_squared_error: 32815863808.0000 - val_loss: 17599039488.0000 - val_mean_squared_error: 17599039488.0000 - 111ms/epoch - 12ms/step\n",
      "Epoch 7/64\n",
      "9/9 - 0s - loss: 27092881408.0000 - mean_squared_error: 27092881408.0000 - val_loss: 19571109888.0000 - val_mean_squared_error: 19571109888.0000 - 122ms/epoch - 14ms/step\n",
      "Epoch 8/64\n",
      "9/9 - 0s - loss: 24109170688.0000 - mean_squared_error: 24109170688.0000 - val_loss: 20341512192.0000 - val_mean_squared_error: 20341512192.0000 - 111ms/epoch - 12ms/step\n",
      "Epoch 9/64\n",
      "9/9 - 0s - loss: 24041023488.0000 - mean_squared_error: 24041023488.0000 - val_loss: 19423207424.0000 - val_mean_squared_error: 19423207424.0000 - 118ms/epoch - 13ms/step\n",
      "Epoch 10/64\n",
      "9/9 - 0s - loss: 23911626752.0000 - mean_squared_error: 23911626752.0000 - val_loss: 18340212736.0000 - val_mean_squared_error: 18340212736.0000 - 120ms/epoch - 13ms/step\n",
      "Epoch 11/64\n",
      "9/9 - 0s - loss: 24801417216.0000 - mean_squared_error: 24801417216.0000 - val_loss: 21049233408.0000 - val_mean_squared_error: 21049233408.0000 - 110ms/epoch - 12ms/step\n",
      "Epoch 12/64\n",
      "9/9 - 0s - loss: 24968003584.0000 - mean_squared_error: 24968003584.0000 - val_loss: 20939151360.0000 - val_mean_squared_error: 20939151360.0000 - 116ms/epoch - 13ms/step\n",
      "Epoch 13/64\n",
      "9/9 - 0s - loss: 28086214656.0000 - mean_squared_error: 28086214656.0000 - val_loss: 28789217280.0000 - val_mean_squared_error: 28789217280.0000 - 113ms/epoch - 13ms/step\n",
      "Epoch 14/64\n",
      "9/9 - 0s - loss: 30324574208.0000 - mean_squared_error: 30324574208.0000 - val_loss: 26805555200.0000 - val_mean_squared_error: 26805555200.0000 - 113ms/epoch - 13ms/step\n",
      "Epoch 15/64\n",
      "9/9 - 0s - loss: 28385640448.0000 - mean_squared_error: 28385640448.0000 - val_loss: 23962638336.0000 - val_mean_squared_error: 23962638336.0000 - 112ms/epoch - 12ms/step\n",
      "Epoch 16/64\n",
      "9/9 - 0s - loss: 26833156096.0000 - mean_squared_error: 26833156096.0000 - val_loss: 20965931008.0000 - val_mean_squared_error: 20965931008.0000 - 126ms/epoch - 14ms/step\n",
      "Epoch 17/64\n",
      "9/9 - 0s - loss: 25787240448.0000 - mean_squared_error: 25787240448.0000 - val_loss: 22090641408.0000 - val_mean_squared_error: 22090641408.0000 - 110ms/epoch - 12ms/step\n",
      "Epoch 18/64\n",
      "9/9 - 0s - loss: 25252827136.0000 - mean_squared_error: 25252827136.0000 - val_loss: 19117039616.0000 - val_mean_squared_error: 19117039616.0000 - 107ms/epoch - 12ms/step\n",
      "Epoch 19/64\n",
      "9/9 - 0s - loss: 24708837376.0000 - mean_squared_error: 24708837376.0000 - val_loss: 20681351168.0000 - val_mean_squared_error: 20681351168.0000 - 113ms/epoch - 13ms/step\n",
      "Epoch 20/64\n",
      "9/9 - 0s - loss: 23978733568.0000 - mean_squared_error: 23978733568.0000 - val_loss: 14628164608.0000 - val_mean_squared_error: 14628164608.0000 - 148ms/epoch - 16ms/step\n",
      "Epoch 21/64\n",
      "9/9 - 0s - loss: 24208035840.0000 - mean_squared_error: 24208035840.0000 - val_loss: 17987872768.0000 - val_mean_squared_error: 17987872768.0000 - 112ms/epoch - 12ms/step\n",
      "Epoch 22/64\n",
      "9/9 - 0s - loss: 22257932288.0000 - mean_squared_error: 22257932288.0000 - val_loss: 19912192000.0000 - val_mean_squared_error: 19912192000.0000 - 119ms/epoch - 13ms/step\n",
      "Epoch 23/64\n",
      "9/9 - 0s - loss: 23288328192.0000 - mean_squared_error: 23288328192.0000 - val_loss: 21097959424.0000 - val_mean_squared_error: 21097959424.0000 - 106ms/epoch - 12ms/step\n",
      "Epoch 24/64\n",
      "9/9 - 0s - loss: 24794814464.0000 - mean_squared_error: 24794814464.0000 - val_loss: 20013414400.0000 - val_mean_squared_error: 20013414400.0000 - 112ms/epoch - 12ms/step\n",
      "Epoch 25/64\n",
      "9/9 - 0s - loss: 24008574976.0000 - mean_squared_error: 24008574976.0000 - val_loss: 20117891072.0000 - val_mean_squared_error: 20117891072.0000 - 122ms/epoch - 14ms/step\n",
      "Epoch 26/64\n",
      "9/9 - 0s - loss: 24002510848.0000 - mean_squared_error: 24002510848.0000 - val_loss: 21627721728.0000 - val_mean_squared_error: 21627721728.0000 - 121ms/epoch - 13ms/step\n",
      "Epoch 27/64\n",
      "9/9 - 0s - loss: 23446714368.0000 - mean_squared_error: 23446714368.0000 - val_loss: 21193809920.0000 - val_mean_squared_error: 21193809920.0000 - 128ms/epoch - 14ms/step\n",
      "Epoch 28/64\n",
      "9/9 - 0s - loss: 24368390144.0000 - mean_squared_error: 24368390144.0000 - val_loss: 21801197568.0000 - val_mean_squared_error: 21801197568.0000 - 110ms/epoch - 12ms/step\n",
      "Epoch 29/64\n",
      "9/9 - 0s - loss: 24477411328.0000 - mean_squared_error: 24477411328.0000 - val_loss: 21164255232.0000 - val_mean_squared_error: 21164255232.0000 - 126ms/epoch - 14ms/step\n",
      "Epoch 30/64\n",
      "9/9 - 0s - loss: 24469487616.0000 - mean_squared_error: 24469487616.0000 - val_loss: 21593628672.0000 - val_mean_squared_error: 21593628672.0000 - 112ms/epoch - 12ms/step\n",
      "Epoch 31/64\n",
      "9/9 - 0s - loss: 24766676992.0000 - mean_squared_error: 24766676992.0000 - val_loss: 21745098752.0000 - val_mean_squared_error: 21745098752.0000 - 133ms/epoch - 15ms/step\n",
      "Epoch 32/64\n",
      "9/9 - 0s - loss: 25201051648.0000 - mean_squared_error: 25201051648.0000 - val_loss: 20801363968.0000 - val_mean_squared_error: 20801363968.0000 - 110ms/epoch - 12ms/step\n",
      "Epoch 33/64\n",
      "9/9 - 0s - loss: 24517367808.0000 - mean_squared_error: 24517367808.0000 - val_loss: 20539787264.0000 - val_mean_squared_error: 20539787264.0000 - 104ms/epoch - 12ms/step\n",
      "Epoch 34/64\n",
      "9/9 - 0s - loss: 24039806976.0000 - mean_squared_error: 24039806976.0000 - val_loss: 20947240960.0000 - val_mean_squared_error: 20947240960.0000 - 121ms/epoch - 13ms/step\n",
      "Epoch 35/64\n",
      "9/9 - 0s - loss: 23464828928.0000 - mean_squared_error: 23464828928.0000 - val_loss: 20888506368.0000 - val_mean_squared_error: 20888506368.0000 - 111ms/epoch - 12ms/step\n",
      "Epoch 36/64\n",
      "9/9 - 0s - loss: 23522650112.0000 - mean_squared_error: 23522650112.0000 - val_loss: 20600903680.0000 - val_mean_squared_error: 20600903680.0000 - 106ms/epoch - 12ms/step\n",
      "Epoch 37/64\n",
      "9/9 - 0s - loss: 23225227264.0000 - mean_squared_error: 23225227264.0000 - val_loss: 20266616832.0000 - val_mean_squared_error: 20266616832.0000 - 112ms/epoch - 12ms/step\n",
      "Epoch 38/64\n",
      "9/9 - 0s - loss: 23050745856.0000 - mean_squared_error: 23050745856.0000 - val_loss: 20105527296.0000 - val_mean_squared_error: 20105527296.0000 - 123ms/epoch - 14ms/step\n",
      "Epoch 39/64\n",
      "9/9 - 0s - loss: 23032657920.0000 - mean_squared_error: 23032657920.0000 - val_loss: 20191297536.0000 - val_mean_squared_error: 20191297536.0000 - 118ms/epoch - 13ms/step\n",
      "Epoch 40/64\n",
      "9/9 - 0s - loss: 22543144960.0000 - mean_squared_error: 22543144960.0000 - val_loss: 19824551936.0000 - val_mean_squared_error: 19824551936.0000 - 108ms/epoch - 12ms/step\n",
      "Epoch 41/64\n",
      "9/9 - 0s - loss: 22069839872.0000 - mean_squared_error: 22069839872.0000 - val_loss: 21243772928.0000 - val_mean_squared_error: 21243772928.0000 - 151ms/epoch - 17ms/step\n",
      "Epoch 42/64\n",
      "9/9 - 0s - loss: 22664134656.0000 - mean_squared_error: 22664134656.0000 - val_loss: 20480737280.0000 - val_mean_squared_error: 20480737280.0000 - 114ms/epoch - 13ms/step\n",
      "Epoch 43/64\n",
      "9/9 - 0s - loss: 23404324864.0000 - mean_squared_error: 23404324864.0000 - val_loss: 20713586688.0000 - val_mean_squared_error: 20713586688.0000 - 121ms/epoch - 13ms/step\n",
      "Epoch 44/64\n",
      "9/9 - 0s - loss: 23980126208.0000 - mean_squared_error: 23980126208.0000 - val_loss: 20385638400.0000 - val_mean_squared_error: 20385638400.0000 - 116ms/epoch - 13ms/step\n",
      "Epoch 45/64\n",
      "9/9 - 0s - loss: 23981912064.0000 - mean_squared_error: 23981912064.0000 - val_loss: 21221347328.0000 - val_mean_squared_error: 21221347328.0000 - 133ms/epoch - 15ms/step\n",
      "Epoch 46/64\n",
      "9/9 - 0s - loss: 24183619584.0000 - mean_squared_error: 24183619584.0000 - val_loss: 19417540608.0000 - val_mean_squared_error: 19417540608.0000 - 114ms/epoch - 13ms/step\n",
      "Epoch 47/64\n",
      "9/9 - 0s - loss: 25345466368.0000 - mean_squared_error: 25345466368.0000 - val_loss: 21201815552.0000 - val_mean_squared_error: 21201815552.0000 - 110ms/epoch - 12ms/step\n",
      "Epoch 48/64\n",
      "9/9 - 0s - loss: 24505628672.0000 - mean_squared_error: 24505628672.0000 - val_loss: 21652144128.0000 - val_mean_squared_error: 21652144128.0000 - 118ms/epoch - 13ms/step\n",
      "Epoch 49/64\n",
      "9/9 - 0s - loss: 25168189440.0000 - mean_squared_error: 25168189440.0000 - val_loss: 20032872448.0000 - val_mean_squared_error: 20032872448.0000 - 117ms/epoch - 13ms/step\n",
      "Epoch 50/64\n",
      "9/9 - 0s - loss: 24950200320.0000 - mean_squared_error: 24950200320.0000 - val_loss: 21216417792.0000 - val_mean_squared_error: 21216417792.0000 - 111ms/epoch - 12ms/step\n",
      "Epoch 51/64\n",
      "9/9 - 0s - loss: 23799607296.0000 - mean_squared_error: 23799607296.0000 - val_loss: 19909879808.0000 - val_mean_squared_error: 19909879808.0000 - 116ms/epoch - 13ms/step\n",
      "Epoch 52/64\n",
      "9/9 - 0s - loss: 24245514240.0000 - mean_squared_error: 24245514240.0000 - val_loss: 19322304512.0000 - val_mean_squared_error: 19322304512.0000 - 115ms/epoch - 13ms/step\n",
      "Epoch 53/64\n",
      "9/9 - 0s - loss: 25412622336.0000 - mean_squared_error: 25412622336.0000 - val_loss: 22745473024.0000 - val_mean_squared_error: 22745473024.0000 - 103ms/epoch - 11ms/step\n",
      "Epoch 54/64\n",
      "9/9 - 0s - loss: 24452782080.0000 - mean_squared_error: 24452782080.0000 - val_loss: 20501534720.0000 - val_mean_squared_error: 20501534720.0000 - 113ms/epoch - 13ms/step\n",
      "Epoch 55/64\n",
      "9/9 - 0s - loss: 23566450688.0000 - mean_squared_error: 23566450688.0000 - val_loss: 20214263808.0000 - val_mean_squared_error: 20214263808.0000 - 116ms/epoch - 13ms/step\n",
      "Epoch 56/64\n",
      "9/9 - 0s - loss: 23107637248.0000 - mean_squared_error: 23107637248.0000 - val_loss: 20168910848.0000 - val_mean_squared_error: 20168910848.0000 - 153ms/epoch - 17ms/step\n",
      "Epoch 57/64\n",
      "9/9 - 0s - loss: 25342957568.0000 - mean_squared_error: 25342957568.0000 - val_loss: 21069625344.0000 - val_mean_squared_error: 21069625344.0000 - 109ms/epoch - 12ms/step\n",
      "Epoch 58/64\n",
      "9/9 - 0s - loss: 40899162112.0000 - mean_squared_error: 40899162112.0000 - val_loss: 38668476416.0000 - val_mean_squared_error: 38668476416.0000 - 104ms/epoch - 12ms/step\n",
      "Epoch 59/64\n",
      "9/9 - 0s - loss: 45420740608.0000 - mean_squared_error: 45420740608.0000 - val_loss: 27696396288.0000 - val_mean_squared_error: 27696396288.0000 - 103ms/epoch - 11ms/step\n",
      "Epoch 60/64\n",
      "9/9 - 0s - loss: 46200627200.0000 - mean_squared_error: 46200627200.0000 - val_loss: 19314653184.0000 - val_mean_squared_error: 19314655232.0000 - 102ms/epoch - 11ms/step\n",
      "Epoch 61/64\n",
      "9/9 - 0s - loss: 29492111360.0000 - mean_squared_error: 29492111360.0000 - val_loss: 34110316544.0000 - val_mean_squared_error: 34110316544.0000 - 108ms/epoch - 12ms/step\n",
      "Epoch 62/64\n",
      "9/9 - 0s - loss: 28000065536.0000 - mean_squared_error: 28000065536.0000 - val_loss: 21533112320.0000 - val_mean_squared_error: 21533112320.0000 - 115ms/epoch - 13ms/step\n",
      "Epoch 63/64\n",
      "9/9 - 0s - loss: 26133415936.0000 - mean_squared_error: 26133415936.0000 - val_loss: 21472286720.0000 - val_mean_squared_error: 21472286720.0000 - 116ms/epoch - 13ms/step\n",
      "Epoch 64/64\n",
      "9/9 - 0s - loss: 24388132864.0000 - mean_squared_error: 24388132864.0000 - val_loss: 22984294400.0000 - val_mean_squared_error: 22984294400.0000 - 106ms/epoch - 12ms/step\n"
     ]
    },
    {
     "data": {
      "text/plain": [
       "<keras.src.callbacks.History at 0x22736eefa60>"
      ]
     },
     "execution_count": 13,
     "metadata": {},
     "output_type": "execute_result"
    }
   ],
   "source": [
    "model.add(LSTM(units=50, activation='relu', input_shape=(12, 1)))\n",
    "# model.add(Dense(128, activation = 'relu', input_dim=X_train_scaled.shape[1]))\n",
    "model.add(Dense(50, activation = 'relu'))\n",
    "model.add(Dense(1))\n",
    "model.compile(optimizer='adam', loss = 'mean_squared_error', metrics=['mean_squared_error'])\n",
    "model.fit(X_train, y_train, batch_size = 64, epochs = 64, validation_split = 0.2, verbose = 2)"
   ]
  },
  {
   "cell_type": "code",
   "execution_count": 14,
   "metadata": {},
   "outputs": [
    {
     "name": "stdout",
     "output_type": "stream",
     "text": [
      "10/10 [==============================] - 0s 4ms/step\n"
     ]
    }
   ],
   "source": [
    "y_pred = model.predict(X_test)"
   ]
  },
  {
   "cell_type": "code",
   "execution_count": 19,
   "metadata": {},
   "outputs": [
    {
     "name": "stdout",
     "output_type": "stream",
     "text": [
      "1/1 [==============================] - 0s 38ms/step\n"
     ]
    }
   ],
   "source": [
    "import pandas as pd\n",
    "data = {\n",
    "        'Jan' : [30010.12],\n",
    "        'Feb' : [2000.23],\n",
    "        'Mar' : [2000.23],\n",
    "        'Apr' : [2000.23],\n",
    "        'May' : [2000.23],\n",
    "        'Jun' : [2000.23],\n",
    "        'Jul' : [2000.23],\n",
    "        'Aug' : [2000.23],\n",
    "        'Sept' :[2000.23],\n",
    "        'Oct' : [2000.23],\n",
    "        'Nov' : [2000.23],\n",
    "        'Dec' : [2000.23],\n",
    "    }\n",
    "\n",
    "df1 = pd.DataFrame(data)\n",
    "\n",
    "y_pred_1 = model.predict(df1)"
   ]
  },
  {
   "cell_type": "code",
   "execution_count": 20,
   "metadata": {},
   "outputs": [
    {
     "data": {
      "text/plain": [
       "array([[301.67673]], dtype=float32)"
      ]
     },
     "execution_count": 20,
     "metadata": {},
     "output_type": "execute_result"
    }
   ],
   "source": [
    "y_pred_1"
   ]
  },
  {
   "cell_type": "code",
   "execution_count": 23,
   "metadata": {},
   "outputs": [
    {
     "name": "stdout",
     "output_type": "stream",
     "text": [
      "           Jan          Feb          Mar          Apr          May  \\\n",
      "0  3526.992294  2400.078147  3053.354284  4422.926549  4039.275535   \n",
      "\n",
      "          Jun          Jul          Aug         Sept          Oct  \\\n",
      "0  4809.18739  3256.998743  3860.180198  4092.029748  4577.321402   \n",
      "\n",
      "           Nov          Dec  \n",
      "0  2673.669225  2041.747679  \n",
      "1/1 [==============================] - 0s 47ms/step\n",
      "[[8019.841]]\n"
     ]
    }
   ],
   "source": [
    "random_values = np.random.uniform(2000, 5001, size=12)\n",
    "\n",
    "# Create the data dictionary with random values\n",
    "data = {\n",
    "    'Jan': [random_values[0]],\n",
    "    'Feb': [random_values[1]],\n",
    "    'Mar': [random_values[2]],\n",
    "    'Apr': [random_values[3]],\n",
    "    'May': [random_values[4]],\n",
    "    'Jun': [random_values[5]],\n",
    "    'Jul': [random_values[6]],\n",
    "    'Aug': [random_values[7]],\n",
    "    'Sept': [random_values[8]],\n",
    "    'Oct': [random_values[9]],\n",
    "    'Nov': [random_values[10]],\n",
    "    'Dec': [random_values[11]],\n",
    "}\n",
    "\n",
    "df3 = pd.DataFrame(data)\n",
    "\n",
    "print(df3)\n",
    "\n",
    "y_pred_3 = model.predict(df3)\n",
    "\n",
    "print(y_pred_3)"
   ]
  },
  {
   "cell_type": "code",
   "execution_count": null,
   "metadata": {},
   "outputs": [],
   "source": []
  }
 ],
 "metadata": {
  "kernelspec": {
   "display_name": "Python 3",
   "language": "python",
   "name": "python3"
  },
  "language_info": {
   "codemirror_mode": {
    "name": "ipython",
    "version": 3
   },
   "file_extension": ".py",
   "mimetype": "text/x-python",
   "name": "python",
   "nbconvert_exporter": "python",
   "pygments_lexer": "ipython3",
   "version": "3.10.8"
  }
 },
 "nbformat": 4,
 "nbformat_minor": 2
}
